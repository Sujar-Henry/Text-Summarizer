{
 "cells": [
  {
   "cell_type": "code",
   "execution_count": 3,
   "metadata": {},
   "outputs": [
    {
     "name": "stdout",
     "output_type": "stream",
     "text": [
      "Like humans, fish need oxygen to survive, so how do fish breathe underwater? Oxygen helps release the energy that powers our bodies from the sugary chemical glucose in a process called respiration. \n",
      "\n",
      "Respiration releases another gas, carbon dioxide, which gorillas, humans, and fish, breathe out. Humans inhale oxygen from the air, through their mouths, down into their lungs to breathe easily. \n",
      "\n",
      "However, fish have it much harder. \n",
      "\n",
      "To breathe, fish have to pull out molecules of oxygen dissolved in water using their gills, according to the Iowa Department of Natural Resources. \n",
      "\n",
      "The amount of oxygen in the air is a lot higher than the amount of oxygen in the water, though. \n",
      "\n",
      "That means that fish have a much more difficult time breathing than humans do. Fish take water into their mouths just like we take in air, opening and closing their lips. \n",
      "\n",
      "This water then filters through the gills, organs that have lots of feathery filaments made of protein molecules. \n",
      "\n",
      "The filaments look like tiny bristles on a brush. They have thousands of tiny blood vessels to help oxygen get into the bloodstream, even more blood vessels than in human lungs. \n",
      "\n",
      "The larger number of blood vessels in fish gives a much larger surface for oxygen to pass across. That helps them pull the dissolved oxygen from the water, and release carbon dioxide back into the water. \n"
     ]
    }
   ],
   "source": [
    "#Steps to create a summarizer:\n",
    "\"\"\"\n",
    "1. Read the text\n",
    "2. Tokenize the text\n",
    "3. Remove stop words\n",
    "4. Create a frequency table\n",
    "5. Tokenize the sentences\n",
    "6. Score the sentences\n",
    "7. Build the summary\n",
    "8. Output the summary\n",
    "\n",
    "\"\"\"\n",
    "\n",
    "import spacy\n",
    "\n",
    "\n",
    "\n",
    "f = open(\"text.txt\",\"r\")\n",
    "text = f.read()\n",
    "f.close()\n",
    "\n",
    "print(text)"
   ]
  },
  {
   "cell_type": "code",
   "execution_count": null,
   "metadata": {},
   "outputs": [],
   "source": [
    "#Tokenize the text\n"
   ]
  }
 ],
 "metadata": {
  "kernelspec": {
   "display_name": "Python 3",
   "language": "python",
   "name": "python3"
  },
  "language_info": {
   "codemirror_mode": {
    "name": "ipython",
    "version": 3
   },
   "file_extension": ".py",
   "mimetype": "text/x-python",
   "name": "python",
   "nbconvert_exporter": "python",
   "pygments_lexer": "ipython3",
   "version": "3.11.2"
  }
 },
 "nbformat": 4,
 "nbformat_minor": 2
}
