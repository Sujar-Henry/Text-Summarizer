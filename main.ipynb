{
 "cells": [
  {
   "cell_type": "code",
   "execution_count": 253,
   "metadata": {},
   "outputs": [
    {
     "name": "stdout",
     "output_type": "stream",
     "text": [
      "The dog wants to breathe underwater so it will ask the fish how it can get gills, to breathe like a fish.\n",
      "The fish tells the dog that it cannot grow gills but it can use a scuba mask, scuba masks are good.\n",
      "Fish are not really good at helping land creatures,but it has seen divers with scuba masks.\n",
      "The dog is now sad as he cannot get gills,but he will still swim in the ocean with the fish.\n"
     ]
    }
   ],
   "source": [
    "#Steps to create a summarizer:\n",
    "\"\"\"\n",
    "1. Read the text\n",
    "2. Tokenize the text\n",
    "3. Remove stop words\n",
    "4. Create a frequency table\n",
    "5. Tokenize the sentences\n",
    "6. Score the sentences\n",
    "7. Build the summary\n",
    "8. Output the summary\n",
    "\n",
    "\"\"\"\n",
    "\n",
    "import spacy\n",
    "\n",
    "\n",
    "\n",
    "f = open(\"text.txt\",\"r\")\n",
    "text = f.read()\n",
    "f.close()\n",
    "\n",
    "print(text)"
   ]
  },
  {
   "cell_type": "code",
   "execution_count": 254,
   "metadata": {},
   "outputs": [
    {
     "name": "stdout",
     "output_type": "stream",
     "text": [
      "{0: 'The', 1: 'dog', 2: 'wants', 3: 'to', 4: 'breathe', 5: 'underwater', 6: 'so', 7: 'it', 8: 'will', 9: 'ask', 10: 'the', 11: 'fish', 12: 'how', 13: 'it', 14: 'can', 15: 'get', 16: 'gills', 17: ',', 18: 'to', 19: 'breathe', 20: 'like', 21: 'a', 22: 'fish', 23: '.', 24: '\\n', 25: 'The', 26: 'fish', 27: 'tells', 28: 'the', 29: 'dog', 30: 'that', 31: 'it', 32: 'can', 33: 'not', 34: 'grow', 35: 'gills', 36: 'but', 37: 'it', 38: 'can', 39: 'use', 40: 'a', 41: 'scuba', 42: 'mask', 43: ',', 44: 'scuba', 45: 'masks', 46: 'are', 47: 'good', 48: '.', 49: '\\n', 50: 'Fish', 51: 'are', 52: 'not', 53: 'really', 54: 'good', 55: 'at', 56: 'helping', 57: 'land', 58: 'creatures', 59: ',', 60: 'but', 61: 'it', 62: 'has', 63: 'seen', 64: 'divers', 65: 'with', 66: 'scuba', 67: 'masks', 68: '.', 69: '\\n', 70: 'The', 71: 'dog', 72: 'is', 73: 'now', 74: 'sad', 75: 'as', 76: 'he', 77: 'can', 78: 'not', 79: 'get', 80: 'gills', 81: ',', 82: 'but', 83: 'he', 84: 'will', 85: 'still', 86: 'swim', 87: 'in', 88: 'the', 89: 'ocean', 90: 'with', 91: 'the', 92: 'fish', 93: '.'}\n"
     ]
    }
   ],
   "source": [
    "#Tokenize the text\n",
    "\n",
    "# Load English tokenizer, tagger, parser, NER and word vectors\n",
    "nlp = spacy.load(\"en_core_web_sm\")\n",
    "\n",
    "# Read the text from the file\n",
    "with open(\"text.txt\", \"r\") as file:\n",
    "        text = file.read()\n",
    "\n",
    "# Process the text\n",
    "doc = nlp(text)\n",
    "\n",
    "# Tokenize the text\n",
    "tokens = {}\n",
    "for i,token in enumerate(doc):\n",
    "        tokens[i] = token.text\n",
    "    \n",
    "\n",
    "print(tokens)"
   ]
  },
  {
   "cell_type": "code",
   "execution_count": 255,
   "metadata": {},
   "outputs": [
    {
     "name": "stdout",
     "output_type": "stream",
     "text": [
      "['The', 'to', 'so', 'it', 'will', 'the', 'how', 'it', 'can', 'get', 'to', 'a', 'The', 'the', 'that', 'it', 'can', 'not', 'but', 'it', 'can', 'a', 'are', 'are', 'not', 'really', 'at', 'but', 'it', 'has', 'with', 'The', 'is', 'now', 'as', 'he', 'can', 'not', 'get', 'but', 'he', 'will', 'still', 'in', 'the', 'with', 'the']\n",
      "[',', '.', ',', '.', ',', '.', ',', '.']\n",
      "{1: 'dog', 2: 'wants', 4: 'breathe', 5: 'underwater', 9: 'ask', 11: 'fish', 16: 'gills', 19: 'breathe', 20: 'like', 22: 'fish', 26: 'fish', 27: 'tells', 29: 'dog', 34: 'grow', 35: 'gills', 39: 'use', 41: 'scuba', 42: 'mask', 44: 'scuba', 45: 'masks', 47: 'good', 50: 'Fish', 54: 'good', 56: 'helping', 57: 'land', 58: 'creatures', 63: 'seen', 64: 'divers', 66: 'scuba', 67: 'masks', 71: 'dog', 74: 'sad', 80: 'gills', 86: 'swim', 89: 'ocean', 92: 'fish'}\n"
     ]
    }
   ],
   "source": [
    "#Remove stop words and punctuation\n",
    "from spacy.lang.en.stop_words import STOP_WORDS\n",
    "stop_words = []\n",
    "punctuation = []\n",
    "\n",
    "for i,token in enumerate(doc):\n",
    "    if token.is_stop :\n",
    "        #show the stop words\n",
    "        stop_words.append(token.text)\n",
    "        del tokens[i]\n",
    "    elif token.is_punct:\n",
    "        punctuation.append(token.text)\n",
    "        del tokens[i]\n",
    "    elif token.text == '\\n':\n",
    "        del tokens[i]\n",
    "print(stop_words)\n",
    "print(punctuation)\n",
    "\n",
    "print(tokens)\n",
    "\n",
    "\n",
    "\n",
    "\n"
   ]
  },
  {
   "cell_type": "code",
   "execution_count": 256,
   "metadata": {},
   "outputs": [
    {
     "name": "stdout",
     "output_type": "stream",
     "text": [
      "{'dog': 3, 'wants': 1, 'breathe': 2, 'underwater': 1, 'ask': 1, 'fish': 4, 'gills': 3, 'like': 1, 'tells': 1, 'grow': 1, 'use': 1, 'scuba': 3, 'mask': 1, 'masks': 2, 'good': 2, 'Fish': 1, 'helping': 1, 'land': 1, 'creatures': 1, 'seen': 1, 'divers': 1, 'sad': 1, 'swim': 1, 'ocean': 1}\n",
      "{'dog': 0.75, 'wants': 0.25, 'breathe': 0.5, 'underwater': 0.25, 'ask': 0.25, 'fish': 1.0, 'gills': 0.75, 'like': 0.25, 'tells': 0.25, 'grow': 0.25, 'use': 0.25, 'scuba': 0.75, 'mask': 0.25, 'masks': 0.5, 'good': 0.5, 'Fish': 0.25, 'helping': 0.25, 'land': 0.25, 'creatures': 0.25, 'seen': 0.25, 'divers': 0.25, 'sad': 0.25, 'swim': 0.25, 'ocean': 0.25}\n"
     ]
    }
   ],
   "source": [
    "#Create a frequency table\n",
    "word_freq = {}\n",
    "\n",
    "for word in tokens.values():\n",
    "    if word not in word_freq:\n",
    "        word_freq[word] = 1\n",
    "    else:\n",
    "        word_freq[word] += 1\n",
    "print(word_freq)\n",
    "\n",
    "max_freq = max(word_freq.values())\n",
    "\n",
    "for word in word_freq.keys():\n",
    "    word_freq[word] = word_freq[word]/max_freq\n",
    "print(word_freq)"
   ]
  },
  {
   "cell_type": "code",
   "execution_count": 257,
   "metadata": {},
   "outputs": [
    {
     "name": "stdout",
     "output_type": "stream",
     "text": [
      "['The dog wants to breathe underwater so it will ask the fish how it can get gills, to breathe like a fish.\\n', 'The fish tells the dog that it cannot grow gills but it can use a scuba mask, scuba masks are good.\\n', 'Fish are not really good at helping land creatures,but it has seen divers with scuba masks.\\n', 'The dog is now sad as he cannot get gills,but he will still swim in the ocean with the fish.']\n"
     ]
    }
   ],
   "source": [
    "#Tokenize the sentences\n",
    "\n",
    "sentences = []\n",
    "\n",
    "for i,token in enumerate(doc.sents):\n",
    "    sentences.append(token.text)\n",
    "print(sentences)"
   ]
  },
  {
   "cell_type": "code",
   "execution_count": 258,
   "metadata": {},
   "outputs": [
    {
     "name": "stdout",
     "output_type": "stream",
     "text": [
      "{'The dog wants to breathe underwater so it will ask the fish how it can get gills, to breathe like a fish.\\n': 3.75, 'The fish tells the dog that it cannot grow gills but it can use a scuba mask, scuba masks are good.\\n': 5.25, 'Fish are not really good at helping land creatures,but it has seen divers with scuba masks.\\n': 3.25, 'The dog is now sad as he cannot get gills,but he will still swim in the ocean with the fish.': 1.5}\n"
     ]
    }
   ],
   "source": [
    "# Score the sentences\n",
    "sentence_scores = {}\n",
    "\n",
    "for sent in sentences:\n",
    "    words = sent.split()\n",
    "    for word in words:\n",
    "        if word.lower() in word_freq.keys():\n",
    "            \n",
    "            if sent not in sentence_scores.keys():\n",
    "                sentence_scores[sent] = word_freq[word.lower()]\n",
    "                \n",
    "            else:\n",
    "                sentence_scores[sent] += word_freq[word.lower()]\n",
    "print(sentence_scores)"
   ]
  },
  {
   "cell_type": "code",
   "execution_count": 264,
   "metadata": {},
   "outputs": [
    {
     "name": "stdout",
     "output_type": "stream",
     "text": [
      "['The fish tells the dog that it cannot grow gills but it can use a scuba mask, scuba masks are good.\\n']\n"
     ]
    }
   ],
   "source": [
    "# Build the summary\n",
    "from heapq import nlargest\n",
    "\n",
    "# Select the length of the summary\n",
    "select_length = int(len(sentences)*0.3)\n",
    "\n",
    "#\n",
    "summary = nlargest(select_length, sentence_scores, key = sentence_scores.get)\n",
    "print(summary)"
   ]
  }
 ],
 "metadata": {
  "kernelspec": {
   "display_name": "Python 3",
   "language": "python",
   "name": "python3"
  },
  "language_info": {
   "codemirror_mode": {
    "name": "ipython",
    "version": 3
   },
   "file_extension": ".py",
   "mimetype": "text/x-python",
   "name": "python",
   "nbconvert_exporter": "python",
   "pygments_lexer": "ipython3",
   "version": "3.11.2"
  }
 },
 "nbformat": 4,
 "nbformat_minor": 2
}
