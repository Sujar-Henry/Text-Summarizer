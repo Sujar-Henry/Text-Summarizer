{
 "cells": [
  {
   "cell_type": "code",
   "execution_count": 1,
   "metadata": {},
   "outputs": [
    {
     "name": "stdout",
     "output_type": "stream",
     "text": [
      "The dog wants to breathe underwater so it will ask the fish how it can get gills.\n",
      " \n"
     ]
    }
   ],
   "source": [
    "#Steps to create a summarizer:\n",
    "\"\"\"\n",
    "1. Read the text\n",
    "2. Tokenize the text\n",
    "3. Remove stop words\n",
    "4. Create a frequency table\n",
    "5. Tokenize the sentences\n",
    "6. Score the sentences\n",
    "7. Build the summary\n",
    "8. Output the summary\n",
    "\n",
    "\"\"\"\n",
    "\n",
    "import spacy\n",
    "\n",
    "\n",
    "\n",
    "f = open(\"text.txt\",\"r\")\n",
    "text = f.read()\n",
    "f.close()\n",
    "\n",
    "print(text)"
   ]
  },
  {
   "cell_type": "code",
   "execution_count": 35,
   "metadata": {},
   "outputs": [
    {
     "name": "stdout",
     "output_type": "stream",
     "text": [
      "{0: 'The', 1: 'dog', 2: 'wants', 3: 'to', 4: 'breathe', 5: 'underwater', 6: 'so', 7: 'it', 8: 'will', 9: 'ask', 10: 'the', 11: 'fish', 12: 'how', 13: 'it', 14: 'can', 15: 'get', 16: 'gills', 17: '.', 18: '\\n '}\n"
     ]
    }
   ],
   "source": [
    "#Tokenize the text\n",
    "\n",
    "# Load English tokenizer, tagger, parser, NER and word vectors\n",
    "nlp = spacy.load(\"en_core_web_sm\")\n",
    "\n",
    "# Read the text from the file\n",
    "with open(\"text.txt\", \"r\") as file:\n",
    "        text = file.read()\n",
    "\n",
    "# Process the text\n",
    "doc = nlp(text)\n",
    "\n",
    "# Tokenize the text\n",
    "tokens = {}\n",
    "for i,token in enumerate(doc):\n",
    "        tokens[i] = token.text\n",
    "    \n",
    "\n",
    "print(tokens)"
   ]
  },
  {
   "cell_type": "code",
   "execution_count": 36,
   "metadata": {},
   "outputs": [
    {
     "name": "stdout",
     "output_type": "stream",
     "text": [
      "['The', 'to', 'so', 'it', 'will', 'the', 'how', 'it', 'can', 'get']\n",
      "{1: 'dog', 2: 'wants', 4: 'breathe', 5: 'underwater', 9: 'ask', 11: 'fish', 16: 'gills', 17: '.', 18: '\\n '}\n"
     ]
    }
   ],
   "source": [
    "#Remove stop words\n",
    "from spacy.lang.en.stop_words import STOP_WORDS\n",
    "stop_words = []\n",
    "\n",
    "\n",
    "for i,token in enumerate(doc):\n",
    "    if token.is_stop:\n",
    "        #show the stop words\n",
    "        stop_words.append(token.text)\n",
    "        del tokens[i]\n",
    "print(stop_words)\n",
    "print(tokens)\n",
    "\n",
    "\n",
    "\n",
    "\n"
   ]
  },
  {
   "cell_type": "code",
   "execution_count": 38,
   "metadata": {},
   "outputs": [
    {
     "name": "stdout",
     "output_type": "stream",
     "text": [
      "{1: 1, 2: 1, 4: 1, 5: 1, 9: 1, 11: 1, 16: 1, 17: 1, 18: 1}\n"
     ]
    }
   ],
   "source": [
    "#Create a frequency table\n",
    "word_freq = {}\n",
    "for i,token in enumerate(tokens):\n",
    "    if token not in word_freq.keys():\n",
    "        word_freq[token] = 1\n",
    "    else:\n",
    "        word_freq[token] += 1\n",
    "print(word_freq)"
   ]
  },
  {
   "cell_type": "code",
   "execution_count": null,
   "metadata": {},
   "outputs": [],
   "source": [
    "#Tokenize the sentences\n"
   ]
  }
 ],
 "metadata": {
  "kernelspec": {
   "display_name": "Python 3",
   "language": "python",
   "name": "python3"
  },
  "language_info": {
   "codemirror_mode": {
    "name": "ipython",
    "version": 3
   },
   "file_extension": ".py",
   "mimetype": "text/x-python",
   "name": "python",
   "nbconvert_exporter": "python",
   "pygments_lexer": "ipython3",
   "version": "3.11.2"
  }
 },
 "nbformat": 4,
 "nbformat_minor": 2
}
